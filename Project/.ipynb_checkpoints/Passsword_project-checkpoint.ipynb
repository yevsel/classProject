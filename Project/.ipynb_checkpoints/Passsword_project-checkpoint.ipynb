{
 "cells": [
  {
   "cell_type": "code",
   "execution_count": 146,
   "id": "be3cf0e1",
   "metadata": {},
   "outputs": [],
   "source": [
    "from itertools import permutations\n",
    "from math import perm,fsum\n",
    "import numpy as np\n",
    "import matplotlib.pyplot as plt\n",
    "from string import ascii_uppercase, ascii_letters\n",
    "from random import choice\n",
    "from time import process_time"
   ]
  },
  {
   "cell_type": "code",
   "execution_count": null,
   "id": "8461e6a3",
   "metadata": {},
   "outputs": [],
   "source": []
  },
  {
   "cell_type": "raw",
   "id": "de8f93ac",
   "metadata": {},
   "source": []
  },
  {
   "cell_type": "markdown",
   "id": "b2ca6d76",
   "metadata": {},
   "source": [
    "<h1>$$^{n}P_{r}=\\frac{n!}{(n-r)!}$$</h1>"
   ]
  },
  {
   "cell_type": "markdown",
   "id": "ea8958ea",
   "metadata": {},
   "source": [
    "<h1 style=\"color:teal;font-weight:100\">Question 1 A</h1>"
   ]
  },
  {
   "cell_type": "code",
   "execution_count": 107,
   "id": "f0cd6fc8",
   "metadata": {},
   "outputs": [
    {
     "name": "stdout",
     "output_type": "stream",
     "text": [
      "15600\n"
     ]
    }
   ],
   "source": [
    "possible_combinations = perm(26,3)\n",
    "print(possible_combinations)"
   ]
  },
  {
   "cell_type": "code",
   "execution_count": 108,
   "id": "02cf5424",
   "metadata": {},
   "outputs": [
    {
     "name": "stdout",
     "output_type": "stream",
     "text": [
      "['ABC', 'ABD', 'ABE', 'ABF', 'ABG', 'ABH', 'ABI', 'ABJ', 'ABK', 'ABL']\n"
     ]
    }
   ],
   "source": [
    "sample_of_possible_combination = [''.join(i) for i in list(permutations(ascii_uppercase,3))[0:10]]\n",
    "print(sample_of_possible_combination)"
   ]
  },
  {
   "cell_type": "markdown",
   "id": "a340ba59",
   "metadata": {},
   "source": [
    "<h1 style=\"color:teal;font-weight:100\">Question 1 B</h1>"
   ]
  },
  {
   "cell_type": "code",
   "execution_count": 109,
   "id": "0e1c731a",
   "metadata": {},
   "outputs": [
    {
     "data": {
      "text/plain": [
       "[<matplotlib.lines.Line2D at 0x24901fb30d0>]"
      ]
     },
     "execution_count": 109,
     "metadata": {},
     "output_type": "execute_result"
    },
    {
     "data": {
      "image/png": "[encoded data removed]",
      "text/plain": [
       "<Figure size 720x360 with 1 Axes>"
      ]
     },
     "metadata": {
      "needs_background": "light"
     },
     "output_type": "display_data"
    }
   ],
   "source": [
    "x_axis = np.array([3,4,5,6,7,8,9,10,11,12,13,14,15])\n",
    "y_axis = np.array([perm(26,i) for i in range(3,16)])\n",
    "plt.figure(figsize=(10,5))\n",
    "plt.plot(x_axis,y_axis)"
   ]
  },
  {
   "cell_type": "markdown",
   "id": "1bb152e9",
   "metadata": {},
   "source": [
    "<h1 style=\"color:teal;font-weight:100\">Question 1 C</h1>"
   ]
  },
  {
   "cell_type": "code",
   "execution_count": 110,
   "id": "dc77c32f",
   "metadata": {},
   "outputs": [],
   "source": [
    "upper_and_lower_cases = \"ABCDEFGHIJKLMNOPQRSTUVWXYZabcdefghijklmnopqrstuvwxyz\""
   ]
  },
  {
   "cell_type": "code",
   "execution_count": 111,
   "id": "1668cf07",
   "metadata": {},
   "outputs": [
    {
     "data": {
      "text/plain": [
       "[<matplotlib.lines.Line2D at 0x24901d8e820>]"
      ]
     },
     "execution_count": 111,
     "metadata": {},
     "output_type": "execute_result"
    },
    {
     "data": {
      "image/png": "[encoded data removed]",
      "text/plain": [
       "<Figure size 720x360 with 1 Axes>"
      ]
     },
     "metadata": {
      "needs_background": "light"
     },
     "output_type": "display_data"
    }
   ],
   "source": [
    "x_axis = np.array([3,4,5,6,7,8,9,10,11,12,13,14,15])\n",
    "y_axis = np.array([perm(len(ascii_letters),i) for i in range(3,16)])\n",
    "plt.figure(figsize=(10,5))\n",
    "plt.plot(x_axis,y_axis)\n",
    "# plt.xlim(13.5,15.5)"
   ]
  },
  {
   "cell_type": "markdown",
   "id": "6890b4e9",
   "metadata": {},
   "source": [
    "<h1 style=\"color:teal;font-weight:100\">Question 1 D</h1>"
   ]
  },
  {
   "cell_type": "code",
   "execution_count": 112,
   "id": "b9cc6e03",
   "metadata": {},
   "outputs": [],
   "source": [
    "upper_lower_and_symbols = ascii_letters+\"+-_@.\"\n"
   ]
  },
  {
   "cell_type": "code",
   "execution_count": 113,
   "id": "e21b6a0a",
   "metadata": {},
   "outputs": [
    {
     "data": {
      "text/plain": [
       "[<matplotlib.lines.Line2D at 0x249018dd340>]"
      ]
     },
     "execution_count": 113,
     "metadata": {},
     "output_type": "execute_result"
    },
    {
     "data": {
      "image/png": "[encoded data removed]",
      "text/plain": [
       "<Figure size 432x288 with 1 Axes>"
      ]
     },
     "metadata": {
      "needs_background": "light"
     },
     "output_type": "display_data"
    }
   ],
   "source": [
    "x_axis = np.array([3,4,5,6,7,8,9,10,11,12,13,14,15])\n",
    "y2_axis = np.array([perm(len(upper_lower_and_symbols),i) for i in range(3,16)])\n",
    "plt.plot(x_axis,y2_axis)"
   ]
  },
  {
   "cell_type": "markdown",
   "id": "19b90680",
   "metadata": {},
   "source": [
    "<h1 style=\"color:teal;font-weight:100\">Question 1 E</h1>"
   ]
  },
  {
   "cell_type": "code",
   "execution_count": 114,
   "id": "a79e9de8",
   "metadata": {},
   "outputs": [],
   "source": [
    "# Simulating the brute force"
   ]
  },
  {
   "cell_type": "code",
   "execution_count": 115,
   "id": "b04cf330",
   "metadata": {},
   "outputs": [],
   "source": [
    "# Pick an arbtitrary password in the combinations\n"
   ]
  },
  {
   "cell_type": "code",
   "execution_count": 150,
   "id": "d00a506e",
   "metadata": {},
   "outputs": [
    {
     "name": "stdout",
     "output_type": "stream",
     "text": [
      "Average Time taken is: 0.00234375 seconds\n"
     ]
    }
   ],
   "source": [
    "combinations=list(permutations(ascii_uppercase,3))\n",
    "execution_times=[]\n",
    "\n",
    "for i in range(20):    \n",
    "    random_password = choice(combinations)\n",
    "#   Start the timer here\n",
    "    start = process_time()\n",
    "    for j in range(len(combinations)):\n",
    "        if combinations[j]==random_password:\n",
    "            end = process_time()\n",
    "            execution_times.append(end-start)\n",
    "            break\n",
    "            \n",
    "# Summing all execution_times\n",
    "average_time = sum(execution_times)/len(execution_times)\n",
    "print(\"Average Time taken is:\",average_time,\"seconds\")\n",
    "# print"
   ]
  },
  {
   "cell_type": "code",
   "execution_count": null,
   "id": "268a2024",
   "metadata": {},
   "outputs": [],
   "source": []
  },
  {
   "cell_type": "markdown",
   "id": "55493e96",
   "metadata": {},
   "source": [
    "<h1 style=\"color:teal;font-weight:100\">Question 1 F</h1>"
   ]
  },
  {
   "cell_type": "code",
   "execution_count": 145,
   "id": "b8f803dc",
   "metadata": {},
   "outputs": [],
   "source": [
    "# Alphanumeric characters and symbols"
   ]
  },
  {
   "cell_type": "code",
   "execution_count": 156,
   "id": "047a2dbd",
   "metadata": {},
   "outputs": [
    {
     "name": "stdout",
     "output_type": "stream",
     "text": [
      "Average Time Taken: 0.02578125 seconds\n"
     ]
    }
   ],
   "source": [
    "alpha_numeric_combinations = list(permutations(ascii_letters+\"+-_@.\",3))\n",
    "execution_times_2 =[] \n",
    "\n",
    "for i in range(20):\n",
    "    random = choice(alpha_numeric_combinations)\n",
    "    start = process_time()\n",
    "    for j in range(len(alpha_numeric_combinations)):\n",
    "        if random == alpha_numeric_combinations[j]:\n",
    "            execution_times_2.append(process_time()-start)\n",
    "            break\n",
    "            \n",
    "average_time_2 = sum(execution_times_2)/len(execution_times_2)\n",
    "print(\"Average Time Taken:\",average_time_2,\"seconds\")"
   ]
  },
  {
   "cell_type": "code",
   "execution_count": null,
   "id": "b6849ba0",
   "metadata": {},
   "outputs": [],
   "source": []
  },
  {
   "cell_type": "markdown",
   "id": "2a6a661b",
   "metadata": {},
   "source": [
    "<h1 style=\"color:teal;font-weight:100\">Question 1 G</h1>\n"
   ]
  },
  {
   "cell_type": "code",
   "execution_count": 167,
   "id": "fb62cb33",
   "metadata": {},
   "outputs": [
    {
     "name": "stdout",
     "output_type": "stream",
     "text": [
      "Average Time Taken: 0.04609375 seconds\n"
     ]
    }
   ],
   "source": [
    "four_letter_upper_combination = list(permutations(ascii_uppercase,4))\n",
    "execution_times_3=[]\n",
    "\n",
    "for i in range(20):\n",
    "    random = choice(four_letter_upper_combination)\n",
    "    start = process_time()\n",
    "    for j in range(len(four_letter_upper_combination)):\n",
    "        if random == four_letter_upper_combination[j]:\n",
    "            execution_times_3.append(process_time()-start)\n",
    "            break\n",
    "            \n",
    "average_time_3 = sum(execution_times_3)/len(execution_times_3)\n",
    "print(\"Average Time Taken:\",average_time_3,\"seconds\")"
   ]
  },
  {
   "cell_type": "code",
   "execution_count": 171,
   "id": "52f9a7aa",
   "metadata": {},
   "outputs": [
    {
     "name": "stdout",
     "output_type": "stream",
     "text": [
      "Average Time Taken: 0.7354166666666667 seconds\n"
     ]
    }
   ],
   "source": [
    "five_letter_upper_combination = list(permutations(ascii_uppercase,5))\n",
    "execution_times_4=[]\n",
    "\n",
    "for i in range(20):\n",
    "    random = choice(five_letter_upper_combination)\n",
    "    start = process_time()\n",
    "    for j in range(len(five_letter_upper_combination)):\n",
    "        if random == five_letter_upper_combination[j]:\n",
    "            execution_times_4.append(process_time()-start)\n",
    "            break\n",
    "    \n",
    "average_time_4 = sum(execution_times_3)/len(execution_times_3)\n",
    "print(\"Average Time Taken:\",average_time_4,\"seconds\")"
   ]
  },
  {
   "cell_type": "code",
   "execution_count": null,
   "id": "83c8b409",
   "metadata": {},
   "outputs": [],
   "source": []
  },
  {
   "cell_type": "code",
   "execution_count": null,
   "id": "182907cc",
   "metadata": {},
   "outputs": [],
   "source": [
    "# 4 and 5 alphanumeric combinations\n"
   ]
  }
 ],
 "metadata": {
  "kernelspec": {
   "display_name": "Python 3 (ipykernel)",
   "language": "python",
   "name": "python3"
  },
  "language_info": {
   "codemirror_mode": {
    "name": "ipython",
    "version": 3
   },
   "file_extension": ".py",
   "mimetype": "text/x-python",
   "name": "python",
   "nbconvert_exporter": "python",
   "pygments_lexer": "ipython3",
   "version": "3.9.7"
  }
 },
 "nbformat": 4,
 "nbformat_minor": 5
}
